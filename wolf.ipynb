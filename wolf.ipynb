{
 "cells": [
  {
   "cell_type": "code",
   "execution_count": 55,
   "metadata": {
    "collapsed": true
   },
   "outputs": [],
   "source": [
    "import numpy as np"
   ]
  },
  {
   "cell_type": "code",
   "execution_count": 54,
   "metadata": {},
   "outputs": [
    {
     "data": {
      "text/plain": [
       "array([1, 1])"
      ]
     },
     "execution_count": 54,
     "metadata": {},
     "output_type": "execute_result"
    }
   ],
   "source": [
    "#test data\n",
    "D=np.array([[-3,1],[1,-2]]);\n",
    "l=np.array([[2],[3]]);\n",
    "b=np.array([[1],[12]]);\n",
    "Mat=np.array([[1,1],[3,4]]);\n",
    "inq=np.array([1,1]);"
   ]
  },
  {
   "cell_type": "code",
   "execution_count": null,
   "metadata": {},
   "outputs": [],
   "source": []
  },
  {
   "cell_type": "code",
   "execution_count": 2,
   "metadata": {
    "collapsed": true
   },
   "outputs": [],
   "source": [
    "def wolf(D,l,b,Mat,*args):\n",
    "    n=l.size;\n",
    "    m=b.size;\n",
    "    \n",
    "    #check dimension mismatch\n",
    "    \n",
    "    if m!=np.shape(Mat)[0] or inq.size!=m or np.shape(D)[0]!=np.shape(D)[1] or np.shape(D)[0]!=n or np.shape(Mat)[2]!=n:\n",
    "        print(\"\\nError: Dimension mismatch!\\n\")\n",
    "        return\n",
    "    \n",
    "    #check no of arguments mismatch\n",
    "    varargin = args;\n",
    "    no_args=4+len(varargin);\n",
    "    \n",
    "    \n",
    "    if no_args>6:\n",
    "        print(\"\\nError:Number of input arguments are inappropriate!\\n\");\n",
    "        return\n",
    "    if no_args <5:\n",
    "        minimize=0;\n",
    "        inq=-np.ones([m,1]);\n",
    "    if no_args ==5:\n",
    "        minimize=0;\n",
    "        inq=np.asaarray(varargin[0]);\n",
    "    if no_args=6:\n",
    "        inq=np.asaarray(varargin[0]);\n",
    "        minimize=varargin[1];\n",
    "    if minimize == 1:\n",
    "        l=-l;\n",
    "        D=-D;\n",
    "    \n",
    "    #check convexity of Hessian\n",
    "    s,s2=np.linalg.eig(-D);\n",
    "    if min(s) < 0:\n",
    "        print(\"\\nError: Wolf method may not converge to global optimum!\\n\");\n",
    "        return\n",
    "    elif min(s) ==0 and np.count_nonzero(l)>0\n",
    "        print(\"\\nError: Wolf method may not converge to global optimum!\\n\");\n",
    "        return\n",
    "    \n",
    "    \n",
    "    \n",
    "    \n",
    "    \n",
    "    return x,fval"
   ]
  }
 ],
 "metadata": {
  "kernelspec": {
   "display_name": "Python 3",
   "language": "python",
   "name": "python3"
  },
  "language_info": {
   "codemirror_mode": {
    "name": "ipython",
    "version": 3
   },
   "file_extension": ".py",
   "mimetype": "text/x-python",
   "name": "python",
   "nbconvert_exporter": "python",
   "pygments_lexer": "ipython3",
   "version": "3.7.3"
  }
 },
 "nbformat": 4,
 "nbformat_minor": 2
}
